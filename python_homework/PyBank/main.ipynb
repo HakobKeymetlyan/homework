{
 "cells": [
  {
   "cell_type": "markdown",
   "metadata": {},
   "source": [
    "#Your task is to create a Python script that analyzes the records to calculate each of the following:\n",
    "\n",
    "1. The total number of months included in the dataset.\n",
    "\n",
    "2. The net total amount of Profit/Losses over the entire period.\n",
    "\n",
    "3. The average of the changes in Profit/Losses over the entire period.\n",
    "\n",
    "4. The greatest increase in profits (date and amount) over the entire period.\n",
    "\n",
    "5. The greatest decrease in losses (date and amount) over the entire period."
   ]
  },
  {
   "cell_type": "code",
   "execution_count": 16,
   "metadata": {},
   "outputs": [],
   "source": [
    "#Import pathlib and csv libraries\n",
    "\n",
    "from pathlib import Path\n",
    "import csv\n"
   ]
  },
  {
   "cell_type": "code",
   "execution_count": 17,
   "metadata": {},
   "outputs": [],
   "source": [
    "#Set the path for the csv file\n",
    "\n",
    "csv_path = Path(\"budget_data.csv\")"
   ]
  },
  {
   "cell_type": "code",
   "execution_count": 18,
   "metadata": {},
   "outputs": [],
   "source": [
    "#Open the csv file for reading\n",
    "\n",
    "with open(csv_path, \"r\") as csv_file:\n",
    "    \n",
    "    csv_reader = csv.reader(csv_file, delimiter=\",\")\n",
    "    \n",
    "    csv_header = next(csv_reader)\n",
    "\n",
    "    \n",
    "    \n",
    "    \n",
    "    \n",
    "    \n",
    "    \n",
    "#-----In this part we are trying to create a list of all the changes in profit between the months-----\n",
    "\n",
    "    #These are empty placeholders for variables\n",
    "    number_of_months = 0\n",
    "    total = 0\n",
    "    changes = []\n",
    "    num1 = 0\n",
    "    num2 = 0\n",
    "    total_of_changes = 0\n",
    "\n",
    "    for row in csv_reader: #Using a for loop to read through each line of data \n",
    "        \n",
    "    \n",
    "        \n",
    "        number_of_months += 1      #adding 1 as we process each line, to get the total number of months\n",
    "        total += int(row[1])       #adding the profit or loss to the total as we process each line\n",
    "\n",
    "        \n",
    "        #Using an if statement to create a logic that subtracts every previous number from the next number\n",
    "        if num1 == 0:\n",
    "            num1 = int(row[1])    \n",
    "        \n",
    "        elif num2 == 0:\n",
    "            num2 = int(row[1])\n",
    "            \n",
    "            change = num2-num1\n",
    "            changes.append(change)\n",
    "\n",
    "        elif num2 != int(row[1]):\n",
    "            num1 = num2\n",
    "            num2 = int(row[1]) \n",
    "\n",
    "            change = num2-num1 \n",
    "            changes.append(change)\n",
    "\n",
    "\n",
    "#-----In this part we are finding the average of chnges in profit-----\n",
    "    \n",
    "    for i in changes:    #Using a for loop to add up the list items and find the sum of all changes\n",
    "        total_of_changes += i\n",
    "    \n",
    "\n",
    "    average_of_changes = round(total_of_changes/(number_of_months-1), 2)    #average equals sum divided by number of months minus one because we count changes by pairs\n",
    "\n",
    "\n",
    "#-----This part is for finding max and min changes in profit-----\n",
    "    max_change = 0\n",
    "    min_change = 0\n",
    "\n",
    "    for change in changes:\n",
    "        if max_change == 0:\n",
    "            max_change = change\n",
    "        elif change > max_change:\n",
    "            max_change = change\n",
    "\n",
    "    for change in changes:\n",
    "        if min_change == 0:\n",
    "            min_change = change\n",
    "        elif change < min_change:\n",
    "            min_change = change\n",
    "\n",
    "\n",
    "\n",
    "\n"
   ]
  },
  {
   "cell_type": "code",
   "execution_count": 19,
   "metadata": {},
   "outputs": [
    {
     "name": "stdout",
     "output_type": "stream",
     "text": [
      "Total number of months: 86\n",
      "Total revenue/loss: $38382578\n",
      "Average change: $-2315.12\n",
      "Greatest Increase in Profits: $1926159\n",
      "Greatest Decrease in Profits: $-2196167\n"
     ]
    }
   ],
   "source": [
    "print(f\"Total number of months: {number_of_months}\")\n",
    "print(f\"Total revenue/loss: ${total}\")\n",
    "print(f\"Average change: ${average_of_changes}\")\n",
    "print(f\"Greatest Increase in Profits: ${max_change}\")\n",
    "print(f\"Greatest Decrease in Profits: ${min_change}\")"
   ]
  }
 ],
 "metadata": {
  "interpreter": {
   "hash": "3f891be4a508d23b674056714641a5a9b0cb720fac959ac27f561b838ef87d0b"
  },
  "kernelspec": {
   "display_name": "Python 3.9.7 ('base')",
   "language": "python",
   "name": "python3"
  },
  "language_info": {
   "codemirror_mode": {
    "name": "ipython",
    "version": 3
   },
   "file_extension": ".py",
   "mimetype": "text/x-python",
   "name": "python",
   "nbconvert_exporter": "python",
   "pygments_lexer": "ipython3",
   "version": "3.9.7"
  },
  "orig_nbformat": 4
 },
 "nbformat": 4,
 "nbformat_minor": 2
}
