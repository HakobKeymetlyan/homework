{
 "cells": [
  {
   "cell_type": "markdown",
   "metadata": {},
   "source": [
    "# Fintech Project\n",
    "\n",
    "## Overview and Origin\n",
    "\n",
    "Binance is one of the major cryptocurrency exchanges today. It was founded in 2017 by Changpeng Zhao, a developer who had previously founded Fusion Systems in 2005, which was a high-frequency trading system for stockbrokers. After working as a technology leader at crypto wallet provider Blockchain.com and crypto marketplace OKCoin, CZ decided to build his own exchange, combining the tech performance of high-frequency trading platforms with the promise of crypto. As a result, he launched Binance through a $15 million ICO. The company was founded in China but was forced to move out into Japan, beacuase of the increasing pressure from the Chinese government towards cryptocurrencies. \n",
    "\n",
    "\n",
    "## Business Activities:\n",
    "\n",
    "Binance is currently offering a product suite that includes the largest digital asset exchange in the world by trade volume, BNB Chain, which is a community-driven blockchain software system, a decentralized wallet where users can send, receive and store their digital assets, institutional-grade research reports and data-driven insights and analysis for investors in the crypto space, and much more. Binance is targeting both retail and institutional invetors as customers. \n",
    "\n",
    "Compared to it's compatitors, Binance is well-known for its massive altcoin list, with more than 600 choices available to non-U.S. users. Binance supports many fiat currencies, such as USD, EUR, Australian dollar (AUD), GBP, Hong Kong dollar (HKD), and Indian rupee (INR). Additionally, Binance offers educational materials and tutorials and their fees are some of the lowest in the industry.\n",
    "\n",
    "\n",
    "## Landscape:\n",
    "\n",
    "The global cryptocurrency exchange platform market size was valued at USD 30.18 billion in 2021 and is expected to grow at a compound annual growth rate (CAGR) of 27.8% from 2022 to 2030. The growing popularity of digital assets, such as cryptocurrencies and Non-Fungible Tokens (NFTs), is anticipated to increase the demand for cryptocurrency exchange platforms. People in developed countries, such as the U.S. and Canada, are rapidly adopting digital currency owing to its flexibility and ease of transaction. In addition, the rising acceptance of mobile-based trading platforms is expected to create opportunities for the industry. Furthermore, cryptocurrencies use blockchain technology for decentralization and efficient transactions. The biggest players in the field are Coinbase, FTX, Kraken, KuCoin etc. During the lasst several months the crypto market has been experianceing a downturn, as well as the stock market, but the long term view is that the crypto market is going to keep growing.\n",
    "\n",
    "\n",
    "## Results\n",
    "\n",
    "Binance is an absolute leader in the fieldas it has the largest trading volume offering users the most cryptocurrency trading pairs of any trusted exchange. It's closest competitor is Coinbase which has been generally preferred as a more secure platform, and has a more friendly interface for beginners in the crypto field. That being said, Binance is tough to beat on features. It is still the absolute leader in the field. One disadvantage of Binance is that it is banned in the US, but has a Binance.US version, which is unfortunatley a more limited version of the exchange.\n",
    "\n",
    "\n",
    "## Sources\n",
    "* https://en.wikipedia.org/wiki/Binance\n",
    "* https://www.binance.com/en/about\n",
    "* https://www.binance.com/en/blog/from-cz/from-burgers-to-bitcoin-billions-how-cz-built-a-leading-crypto-exchange-in-just-180-days-421499824684901276\n",
    "* https://www.investopedia.com/binance-vs-coinbase-5120852\n",
    "* https://www.grandviewresearch.com/industry-analysis/cryptocurrency-exchange-platform-market-report\n"
   ]
  },
  {
   "cell_type": "markdown",
   "metadata": {},
   "source": []
  }
 ],
 "metadata": {
  "kernelspec": {
   "display_name": "Python 3.7.11 ('dev')",
   "language": "python",
   "name": "python3"
  },
  "language_info": {
   "name": "python",
   "version": "3.7.11"
  },
  "orig_nbformat": 4,
  "vscode": {
   "interpreter": {
    "hash": "823ba6c9f7991c282a0a30b095d2cb70392786a17e70f7c82f28f6f2d2b954a5"
   }
  }
 },
 "nbformat": 4,
 "nbformat_minor": 2
}
