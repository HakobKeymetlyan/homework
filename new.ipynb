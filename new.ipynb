{
 "cells": [
  {
   "cell_type": "code",
   "execution_count": null,
   "metadata": {},
   "outputs": [],
   "source": [
    "data = [\n",
    "    \"AttributeDict({\n",
    "        \n",
    "    'args': AttributeDict({'from': '0x0000000000000000000000000000000000000000', 'to': '0x805570ae3AdAb1aE273018ea77D0E6A02d64C8F7', 'tokenId': 0}), \n",
    "    'event': 'Transfer', \n",
    "    'logIndex': 0, \n",
    "    'transactionIndex': 0, \n",
    "    'transactionHash': HexBytes('0xaf41a227c3367c6aa4a269780ca175d79a47907a2a28da074e7f5d27ca7fc789'), \n",
    "    'address': '0xC0BE863F2D6B47C9146dc36F910a1b3f43C5449B', \n",
    "    'blockHash': HexBytes('0x3a2a6a8b09502f5bcab68650e559b3df104c8b0d26d8e62e72e66593719e11a4'), \n",
    "    'blockNumber': 2})\"\n",
    "]"
   ]
  },
  {
   "cell_type": "code",
   "execution_count": 37,
   "metadata": {},
   "outputs": [],
   "source": [
    "data = [\"AttributeDict({'args': AttributeDict({'from': '0x0000000000000000000000000000000000000000', 'to': '0x805570ae3AdAb1aE273018ea77D0E6A02d64C8F7', 'tokenId': 0}), 'event': 'Transfer', 'logIndex': 0, 'transactionIndex': 0, 'transactionHash': HexBytes('0xaf41a227c3367c6aa4a269780ca175d79a47907a2a28da074e7f5d27ca7fc789'), 'address': '0xC0BE863F2D6B47C9146dc36F910a1b3f43C5449B', 'blockHash': HexBytes('0x3a2a6a8b09502f5bcab68650e559b3df104c8b0d26d8e62e72e66593719e11a4'), 'blockNumber': 2}))\"]"
   ]
  },
  {
   "cell_type": "code",
   "execution_count": 39,
   "metadata": {},
   "outputs": [
    {
     "data": {
      "text/html": [
       "<div>\n",
       "<style scoped>\n",
       "    .dataframe tbody tr th:only-of-type {\n",
       "        vertical-align: middle;\n",
       "    }\n",
       "\n",
       "    .dataframe tbody tr th {\n",
       "        vertical-align: top;\n",
       "    }\n",
       "\n",
       "    .dataframe thead th {\n",
       "        text-align: right;\n",
       "    }\n",
       "</style>\n",
       "<table border=\"1\" class=\"dataframe\">\n",
       "  <thead>\n",
       "    <tr style=\"text-align: right;\">\n",
       "      <th></th>\n",
       "      <th>0</th>\n",
       "    </tr>\n",
       "  </thead>\n",
       "  <tbody>\n",
       "    <tr>\n",
       "      <th>0</th>\n",
       "      <td>AttributeDict({'args': AttributeDict({'from': ...</td>\n",
       "    </tr>\n",
       "  </tbody>\n",
       "</table>\n",
       "</div>"
      ],
      "text/plain": [
       "                                                   0\n",
       "0  AttributeDict({'args': AttributeDict({'from': ..."
      ]
     },
     "execution_count": 39,
     "metadata": {},
     "output_type": "execute_result"
    }
   ],
   "source": [
    "import pandas as pd\n",
    "\n",
    "pd.DataFrame(data)"
   ]
  },
  {
   "cell_type": "code",
   "execution_count": null,
   "metadata": {},
   "outputs": [],
   "source": []
  }
 ],
 "metadata": {
  "kernelspec": {
   "display_name": "Python 3.7.11 ('dev')",
   "language": "python",
   "name": "python3"
  },
  "language_info": {
   "codemirror_mode": {
    "name": "ipython",
    "version": 3
   },
   "file_extension": ".py",
   "mimetype": "text/x-python",
   "name": "python",
   "nbconvert_exporter": "python",
   "pygments_lexer": "ipython3",
   "version": "3.7.11"
  },
  "orig_nbformat": 4,
  "vscode": {
   "interpreter": {
    "hash": "823ba6c9f7991c282a0a30b095d2cb70392786a17e70f7c82f28f6f2d2b954a5"
   }
  }
 },
 "nbformat": 4,
 "nbformat_minor": 2
}
